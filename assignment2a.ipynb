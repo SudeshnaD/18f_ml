{
 "cells": [
  {
   "cell_type": "markdown",
   "metadata": {},
   "source": [
    "# K-Means "
   ]
  },
  {
   "cell_type": "code",
   "execution_count": 1,
   "metadata": {},
   "outputs": [],
   "source": [
    "import pandas as pd\n",
    "synth_all = pd.read_csv(\"synth_all.csv\")"
   ]
  },
  {
   "cell_type": "markdown",
   "metadata": {},
   "source": [
    "## Question 1a"
   ]
  },
  {
   "cell_type": "code",
   "execution_count": 2,
   "metadata": {},
   "outputs": [
    {
     "data": {
      "text/plain": [
       "<matplotlib.collections.PathCollection at 0x1165b0150>"
      ]
     },
     "execution_count": 2,
     "metadata": {},
     "output_type": "execute_result"
    }
   ],
   "source": [
    "import matplotlib.pyplot as plot\n",
    "\n",
    "plot.scatter(x=synth_all.x1, y=synth_all.x2)"
   ]
  },
  {
   "cell_type": "markdown",
   "metadata": {},
   "source": [
    "## Question 1b"
   ]
  },
  {
   "cell_type": "markdown",
   "metadata": {},
   "source": [
    "I would put expect about 30 clusters"
   ]
  },
  {
   "cell_type": "markdown",
   "metadata": {},
   "source": [
    "## Question 2a"
   ]
  },
  {
   "cell_type": "code",
   "execution_count": 3,
   "metadata": {},
   "outputs": [
    {
     "data": {
      "text/plain": [
       "array([[26.77086634, 22.02195842],\n",
       "       [ 8.63955253, 15.23474444],\n",
       "       [23.27342887,  8.60741959],\n",
       "       [10.257938  , 24.376948  ],\n",
       "       [15.40105545, 21.93952277],\n",
       "       [16.61904355, 10.40859839],\n",
       "       [25.226476  , 27.836792  ],\n",
       "       [ 5.092299  , 10.18811   ],\n",
       "       [26.097785  , 14.686634  ],\n",
       "       [ 5.34387347, 20.23764082],\n",
       "       [11.55540841,  8.33141028],\n",
       "       [16.37643889, 14.67230926],\n",
       "       [20.325291  , 19.631174  ],\n",
       "       [25.56785248,  6.06014059],\n",
       "       [14.06262727, 26.7166697 ],\n",
       "       [ 5.407537  , 27.575742  ],\n",
       "       [26.88637755, 10.29434184],\n",
       "       [21.31863663, 27.42099208],\n",
       "       [13.90715729, 18.69180417],\n",
       "       [12.149964  , 21.394745  ],\n",
       "       [11.6917703 , 14.42824653],\n",
       "       [27.24742178, 17.51628119],\n",
       "       [22.673545  , 11.864097  ],\n",
       "       [ 5.84031176, 16.93314412],\n",
       "       [ 8.35051919, 10.29413535],\n",
       "       [17.919376  , 25.776084  ],\n",
       "       [24.80992323, 24.34955152],\n",
       "       [22.10633846,  5.62033654],\n",
       "       [ 8.71504118, 21.23696275],\n",
       "       [22.896806  , 16.202219  ]])"
      ]
     },
     "execution_count": 3,
     "metadata": {},
     "output_type": "execute_result"
    }
   ],
   "source": [
    "from sklearn.cluster import KMeans \n",
    "\n",
    "kmeans = KMeans(n_clusters=30).fit(synth_all)\n",
    "\n",
    "kmeans.cluster_centers_"
   ]
  },
  {
   "cell_type": "markdown",
   "metadata": {},
   "source": [
    "## Question 2b"
   ]
  },
  {
   "cell_type": "markdown",
   "metadata": {},
   "source": [
    "## Question 2c"
   ]
  },
  {
   "cell_type": "markdown",
   "metadata": {},
   "source": [
    "# K-Nearest Neighbors"
   ]
  },
  {
   "cell_type": "code",
   "execution_count": null,
   "metadata": {},
   "outputs": [],
   "source": []
  }
 ],
 "metadata": {
  "kernelspec": {
   "display_name": "Python 2",
   "language": "python",
   "name": "python2"
  },
  "language_info": {
   "codemirror_mode": {
    "name": "ipython",
    "version": 2
   },
   "file_extension": ".py",
   "mimetype": "text/x-python",
   "name": "python",
   "nbconvert_exporter": "python",
   "pygments_lexer": "ipython2",
   "version": "2.7.15"
  }
 },
 "nbformat": 4,
 "nbformat_minor": 2
}
