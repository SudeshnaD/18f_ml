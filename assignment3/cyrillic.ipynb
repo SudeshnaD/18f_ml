{
 "cells": [
  {
   "cell_type": "code",
   "execution_count": 2,
   "metadata": {},
   "outputs": [],
   "source": [
    "import os\n",
    "from PIL import Image\n",
    "import pandas as pd\n",
    "import numpy as np"
   ]
  },
  {
   "cell_type": "code",
   "execution_count": 9,
   "metadata": {},
   "outputs": [],
   "source": [
    "# Method that takes a filepath to the folder containing the cyrillic images. Loops through each file, returning\n",
    "# a dataframe with the image data and classification in a pandas dataframe.\n",
    "\n",
    "# TAs: When grading, you can simply pass in the filepath to the folder containing the validation cyrillic images\n",
    "# into this method and it should return a dataframe with the image data appropriately resized and manipulated.\n",
    "# HOWEVER NOTE: This method assumes that the structure of passed-in folder is the same as that of\n",
    "# the folder of cyrillic training data provided. If the folder structure is not the same, then you'll need to\n",
    "# write your own for loop and then use the get_image_data method found below.\n",
    "\n",
    "def build_images_data(cyrillic_path):\n",
    "    df = pd.DataFrame()\n",
    "\n",
    "    for dirName, subdirList, fileNames in os.walk(cyrillic_path):\n",
    "        for i, fileName in enumerate(fileNames):\n",
    "            if fileName.endswith(\".png\"):\n",
    "    #             print \"{n}. {dirName}/{fileName}\".format(n=i, dirName=dirName, fileName=fileName)\n",
    "                img_bitmap = get_image_data(os.path.join(dirName, fileName))\n",
    "                character = dirName.split(\"/\")[-1]\n",
    "                df = df.append(pd.DataFrame([[character, img_bitmap]], columns=['classification', 'imageData']), ignore_index=True)\n",
    "        \n",
    "    return df"
   ]
  },
  {
   "cell_type": "code",
   "execution_count": 64,
   "metadata": {},
   "outputs": [],
   "source": [
    "# Method for taking a filepath to the cyrillic png and returning transformed data.\n",
    "# This method returns a flat array of 0s and 1s, according to whether the image was black or white.\n",
    "binarizer = np.vectorize(lambda i: 1 if i > 0 else 0)\n",
    "\n",
    "IMAGE_EDGE_SIZE = 50\n",
    "\n",
    "def get_image_data(filepath):\n",
    "        img = Image.open(filepath)\n",
    "        img = img.resize((IMAGE_EDGE_SIZE, IMAGE_EDGE_SIZE), Image.ANTIALIAS)\n",
    "        bitmap = np.array(img.getdata())\n",
    "        bitmap = bitmap[:,3] # only need the fourth item in the RGB (transparency)\n",
    "        bitmap = binarizer(bitmap) # change bitmap to 1 or 0\n",
    "        img.close()\n",
    "        return bitmap"
   ]
  },
  {
   "cell_type": "code",
   "execution_count": 12,
   "metadata": {
    "scrolled": true
   },
   "outputs": [
    {
     "data": {
      "text/html": [
       "<div>\n",
       "<style scoped>\n",
       "    .dataframe tbody tr th:only-of-type {\n",
       "        vertical-align: middle;\n",
       "    }\n",
       "\n",
       "    .dataframe tbody tr th {\n",
       "        vertical-align: top;\n",
       "    }\n",
       "\n",
       "    .dataframe thead th {\n",
       "        text-align: right;\n",
       "    }\n",
       "</style>\n",
       "<table border=\"1\" class=\"dataframe\">\n",
       "  <thead>\n",
       "    <tr style=\"text-align: right;\">\n",
       "      <th></th>\n",
       "      <th>classification</th>\n",
       "      <th>imageData</th>\n",
       "    </tr>\n",
       "  </thead>\n",
       "  <tbody>\n",
       "    <tr>\n",
       "      <th>0</th>\n",
       "      <td>Б</td>\n",
       "      <td>[0, 0, 0, 0, 0, 0, 0, 0, 0, 0, 0, 0, 0, 0, 0, ...</td>\n",
       "    </tr>\n",
       "    <tr>\n",
       "      <th>1</th>\n",
       "      <td>Б</td>\n",
       "      <td>[0, 0, 0, 0, 0, 0, 0, 0, 0, 0, 0, 0, 0, 0, 0, ...</td>\n",
       "    </tr>\n",
       "    <tr>\n",
       "      <th>2</th>\n",
       "      <td>Б</td>\n",
       "      <td>[0, 0, 0, 0, 0, 0, 0, 0, 0, 0, 0, 0, 0, 0, 0, ...</td>\n",
       "    </tr>\n",
       "    <tr>\n",
       "      <th>3</th>\n",
       "      <td>Б</td>\n",
       "      <td>[0, 0, 0, 0, 0, 0, 0, 0, 0, 0, 0, 0, 0, 0, 0, ...</td>\n",
       "    </tr>\n",
       "    <tr>\n",
       "      <th>4</th>\n",
       "      <td>Б</td>\n",
       "      <td>[0, 0, 0, 0, 0, 0, 0, 0, 0, 0, 0, 0, 0, 0, 1, ...</td>\n",
       "    </tr>\n",
       "  </tbody>\n",
       "</table>\n",
       "</div>"
      ],
      "text/plain": [
       "  classification                                          imageData\n",
       "0              Б  [0, 0, 0, 0, 0, 0, 0, 0, 0, 0, 0, 0, 0, 0, 0, ...\n",
       "1              Б  [0, 0, 0, 0, 0, 0, 0, 0, 0, 0, 0, 0, 0, 0, 0, ...\n",
       "2              Б  [0, 0, 0, 0, 0, 0, 0, 0, 0, 0, 0, 0, 0, 0, 0, ...\n",
       "3              Б  [0, 0, 0, 0, 0, 0, 0, 0, 0, 0, 0, 0, 0, 0, 0, ...\n",
       "4              Б  [0, 0, 0, 0, 0, 0, 0, 0, 0, 0, 0, 0, 0, 0, 1, ..."
      ]
     },
     "execution_count": 12,
     "metadata": {},
     "output_type": "execute_result"
    }
   ],
   "source": [
    "# Put a Cyrillic folder in the same folder as this file\n",
    "cyrillic_path = \"../Cyrillic\"\n",
    "        \n",
    "df = build_images_data(cyrillic_path)\n",
    "\n",
    "df.head()"
   ]
  },
  {
   "cell_type": "code",
   "execution_count": 251,
   "metadata": {},
   "outputs": [],
   "source": [
    "y_data = pd.Categorical(df[\"classification\"]).codes\n",
    "x_data = list(df[\"imageData\"].values)\n",
    "\n",
    "UNIQUE_CLASSES = pd.Categorical(df['classification']).unique()\n",
    "N_CLASSES = len(UNIQUE_CLASSES)"
   ]
  },
  {
   "cell_type": "markdown",
   "metadata": {},
   "source": [
    "# Train Neural Net"
   ]
  },
  {
   "cell_type": "code",
   "execution_count": 301,
   "metadata": {},
   "outputs": [],
   "source": [
    "from sklearn.model_selection import train_test_split\n",
    "\n",
    "x_train, x_test, y_train, y_test = train_test_split(x_data, y_data, test_size=0.3)\n",
    "x_train, x_valid, y_train, y_valid = train_test_split(x_train, y_train, test_size=0.3)"
   ]
  },
  {
   "cell_type": "code",
   "execution_count": 302,
   "metadata": {
    "scrolled": true
   },
   "outputs": [
    {
     "data": {
      "image/png": "[encoded data removed]",
      "text/plain": [
       "<Figure size 432x288 with 1 Axes>"
      ]
     },
     "metadata": {},
     "output_type": "display_data"
    }
   ],
   "source": [
    "import matplotlib.pyplot as plt\n",
    "\n",
    "plt.hist(y_train)\n",
    "plt.hist(y_test)\n",
    "plt.hist(y_valid)\n",
    "plt.legend([\"train\", \"test\", \"valid\"])\n",
    "plt.show()"
   ]
  },
  {
   "cell_type": "code",
   "execution_count": 303,
   "metadata": {},
   "outputs": [],
   "source": [
    "# Format the y data into an array of 34 items, with 1 for the correct answer\n",
    "\n",
    "import keras.utils as kutils\n",
    "\n",
    "y_train = kutils.to_categorical(y_train, num_classes=N_CLASSES, dtype='int8')\n",
    "y_test  = kutils.to_categorical(y_test,  num_classes=N_CLASSES, dtype='int8')\n",
    "y_valid = kutils.to_categorical(y_valid, num_classes=N_CLASSES, dtype='int8')"
   ]
  },
  {
   "cell_type": "code",
   "execution_count": 382,
   "metadata": {},
   "outputs": [
    {
     "name": "stdout",
     "output_type": "stream",
     "text": [
      "_________________________________________________________________\n",
      "Layer (type)                 Output Shape              Param #   \n",
      "=================================================================\n",
      "dense_138 (Dense)            (None, 200)               500200    \n",
      "_________________________________________________________________\n",
      "dense_139 (Dense)            (None, 300)               60300     \n",
      "_________________________________________________________________\n",
      "dense_140 (Dense)            (None, 500)               150500    \n",
      "_________________________________________________________________\n",
      "dense_141 (Dense)            (None, 300)               150300    \n",
      "_________________________________________________________________\n",
      "dense_142 (Dense)            (None, 200)               60200     \n",
      "_________________________________________________________________\n",
      "dense_143 (Dense)            (None, 100)               20100     \n",
      "_________________________________________________________________\n",
      "dense_144 (Dense)            (None, 50)                5050      \n",
      "_________________________________________________________________\n",
      "dense_145 (Dense)            (None, 34)                1734      \n",
      "=================================================================\n",
      "Total params: 948,384\n",
      "Trainable params: 948,384\n",
      "Non-trainable params: 0\n",
      "_________________________________________________________________\n"
     ]
    }
   ],
   "source": [
    "from keras.models import Sequential\n",
    "from keras.layers import Dense\n",
    "\n",
    "nn = Sequential()\n",
    "\n",
    "layers = [\n",
    "    Dense(units=200, activation='relu', input_dim=IMAGE_EDGE_SIZE**2),\n",
    "    Dense(units=300, activation='relu'),\n",
    "    Dense(units=500, activation='relu'),\n",
    "    Dense(units=300, activation='relu'),\n",
    "    Dense(units=200, activation='relu'),\n",
    "    Dense(units=100, activation='relu'),\n",
    "    Dense(units=50, activation='relu'),\n",
    "]\n",
    "\n",
    "for layer in layers:\n",
    "    nn.add(layer)\n",
    "\n",
    "OutputLayer = Dense(units=N_CLASSES, activation='softmax')\n",
    "nn.add(OutputLayer)\n",
    "\n",
    "nn.summary()"
   ]
  },
  {
   "cell_type": "code",
   "execution_count": 383,
   "metadata": {},
   "outputs": [],
   "source": [
    "# transform data into format keras likes. This shouldn't be necessary but I'm not sure how to do it beautifully.\n",
    "\n",
    "def transform(data):\n",
    "    for i, row in enumerate(data):\n",
    "        data[i] = np.array(row)\n",
    "    return data\n",
    "\n",
    "y_train = transform(y_train)\n",
    "y_test  = transform(y_test)\n",
    "y_valid = transform(y_valid)"
   ]
  },
  {
   "cell_type": "code",
   "execution_count": 384,
   "metadata": {},
   "outputs": [],
   "source": [
    "# Same with x data\n",
    "\n",
    "x_train = np.array(x_train)\n",
    "x_test  = np.array(x_test)\n",
    "x_valid = np.array(x_valid)"
   ]
  },
  {
   "cell_type": "code",
   "execution_count": 385,
   "metadata": {
    "scrolled": false
   },
   "outputs": [
    {
     "name": "stdout",
     "output_type": "stream",
     "text": [
      "Train on 7585 samples, validate on 3251 samples\n",
      "Epoch 1/20\n",
      "7585/7585 [==============================] - 8s 1ms/step - loss: 2.7549 - acc: 0.2127 - val_loss: 2.0458 - val_acc: 0.3839\n",
      "Epoch 2/20\n",
      "7585/7585 [==============================] - 6s 820us/step - loss: 1.6881 - acc: 0.4841 - val_loss: 1.6255 - val_acc: 0.5155\n",
      "Epoch 3/20\n",
      "7585/7585 [==============================] - 6s 799us/step - loss: 1.1778 - acc: 0.6252 - val_loss: 1.3843 - val_acc: 0.5872\n",
      "Epoch 4/20\n",
      "7585/7585 [==============================] - 6s 805us/step - loss: 0.8929 - acc: 0.7134 - val_loss: 1.3544 - val_acc: 0.6026\n",
      "Epoch 5/20\n",
      "7585/7585 [==============================] - 5s 624us/step - loss: 0.6724 - acc: 0.7834 - val_loss: 1.3149 - val_acc: 0.6500\n",
      "Epoch 6/20\n",
      "7585/7585 [==============================] - 6s 831us/step - loss: 0.5569 - acc: 0.8173 - val_loss: 1.1786 - val_acc: 0.6847\n",
      "Epoch 7/20\n",
      "7585/7585 [==============================] - 5s 654us/step - loss: 0.4209 - acc: 0.8596 - val_loss: 1.2836 - val_acc: 0.6832\n",
      "Epoch 8/20\n",
      "7585/7585 [==============================] - 5s 599us/step - loss: 0.3886 - acc: 0.8690 - val_loss: 1.5411 - val_acc: 0.6595\n",
      "Epoch 9/20\n",
      "7585/7585 [==============================] - 5s 613us/step - loss: 0.4068 - acc: 0.8700 - val_loss: 1.3592 - val_acc: 0.6801\n",
      "Epoch 10/20\n",
      "7585/7585 [==============================] - 5s 647us/step - loss: 0.2602 - acc: 0.9151 - val_loss: 1.3095 - val_acc: 0.6995\n",
      "Epoch 11/20\n",
      "7585/7585 [==============================] - 5s 615us/step - loss: 0.2114 - acc: 0.9342 - val_loss: 1.4300 - val_acc: 0.6899\n",
      "Epoch 12/20\n",
      "7585/7585 [==============================] - 6s 797us/step - loss: 0.2142 - acc: 0.9313 - val_loss: 1.5162 - val_acc: 0.6863\n",
      "Epoch 13/20\n",
      "7585/7585 [==============================] - 5s 672us/step - loss: 0.1784 - acc: 0.9448 - val_loss: 1.4197 - val_acc: 0.7213\n",
      "Epoch 14/20\n",
      "7585/7585 [==============================] - 5s 601us/step - loss: 0.1604 - acc: 0.9499 - val_loss: 1.3943 - val_acc: 0.7176\n",
      "Epoch 15/20\n",
      "7585/7585 [==============================] - 5s 625us/step - loss: 0.1393 - acc: 0.9574 - val_loss: 1.5761 - val_acc: 0.7026\n",
      "Epoch 16/20\n",
      "7585/7585 [==============================] - 5s 608us/step - loss: 0.1905 - acc: 0.9440 - val_loss: 1.6576 - val_acc: 0.6773\n",
      "Epoch 17/20\n",
      "7585/7585 [==============================] - 4s 585us/step - loss: 0.1507 - acc: 0.9558 - val_loss: 1.4428 - val_acc: 0.7284\n",
      "Epoch 18/20\n",
      "7585/7585 [==============================] - 5s 615us/step - loss: 0.1208 - acc: 0.9647 - val_loss: 1.4766 - val_acc: 0.7253\n",
      "Epoch 19/20\n",
      "7585/7585 [==============================] - 5s 613us/step - loss: 0.1366 - acc: 0.9604 - val_loss: 1.5409 - val_acc: 0.7229\n",
      "Epoch 20/20\n",
      "7585/7585 [==============================] - 5s 618us/step - loss: 0.1365 - acc: 0.9619 - val_loss: 1.5599 - val_acc: 0.7167\n"
     ]
    }
   ],
   "source": [
    "nn.compile(loss='categorical_crossentropy', optimizer='adam', metrics=['accuracy'])\n",
    "output = nn.fit(x_train, y_train, epochs=20, batch_size=32, validation_data=(x_valid, y_valid))"
   ]
  },
  {
   "cell_type": "code",
   "execution_count": 386,
   "metadata": {},
   "outputs": [
    {
     "data": {
      "text/plain": [
       "<matplotlib.legend.Legend at 0x1a5d627650>"
      ]
     },
     "execution_count": 386,
     "metadata": {},
     "output_type": "execute_result"
    },
    {
     "data": {
      "image/png": "[encoded data removed]",
      "text/plain": [
       "<Figure size 432x288 with 1 Axes>"
      ]
     },
     "metadata": {},
     "output_type": "display_data"
    }
   ],
   "source": [
    "plt.plot(output.history[\"acc\"])\n",
    "plt.plot(output.history[\"val_acc\"])\n",
    "plt.legend([\"acc\", \"val_acc\"])"
   ]
  },
  {
   "cell_type": "code",
   "execution_count": 387,
   "metadata": {},
   "outputs": [
    {
     "data": {
      "text/plain": [
       "<matplotlib.legend.Legend at 0x1a8cfd6bd0>"
      ]
     },
     "execution_count": 387,
     "metadata": {},
     "output_type": "execute_result"
    },
    {
     "data": {
      "image/png": "[encoded data removed]",
      "text/plain": [
       "<Figure size 432x288 with 1 Axes>"
      ]
     },
     "metadata": {},
     "output_type": "display_data"
    }
   ],
   "source": [
    "plt.plot(result.history[\"loss\"])\n",
    "plt.plot(result.history[\"val_loss\"])\n",
    "plt.legend([\"loss\", \"val_loss\"])"
   ]
  },
  {
   "cell_type": "code",
   "execution_count": 388,
   "metadata": {},
   "outputs": [
    {
     "name": "stdout",
     "output_type": "stream",
     "text": [
      "4644/4644 [==============================] - 0s 106us/step\n",
      "Loss: 1.52552203835\n",
      "Acc:  0.720284237726\n"
     ]
    }
   ],
   "source": [
    "results = nn.evaluate(x_test, y_test)\n",
    "print \"Loss: {}\".format(results[0])\n",
    "print \"Acc:  {}\".format(results[1])"
   ]
  }
 ],
 "metadata": {
  "kernelspec": {
   "display_name": "Python 2",
   "language": "python",
   "name": "python2"
  },
  "language_info": {
   "codemirror_mode": {
    "name": "ipython",
    "version": 2
   },
   "file_extension": ".py",
   "mimetype": "text/x-python",
   "name": "python",
   "nbconvert_exporter": "python",
   "pygments_lexer": "ipython2",
   "version": "2.7.15"
  }
 },
 "nbformat": 4,
 "nbformat_minor": 2
}
