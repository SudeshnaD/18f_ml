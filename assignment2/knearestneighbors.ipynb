{
 "cells": [
  {
   "cell_type": "code",
   "execution_count": 3,
   "metadata": {},
   "outputs": [],
   "source": [
    "import pandas as pd\n",
    "from sklearn.neighbors import KNeighborsClassifier\n",
    "synth_train = pd.read_csv(\"synth_train.csv\")\n",
    "synth_valid = pd.read_csv(\"synth_valid.csv\")\n",
    "synth_test = pd.read_csv(\"synth_test.csv\")"
   ]
  },
  {
   "cell_type": "markdown",
   "metadata": {},
   "source": [
    "# Question 1a"
   ]
  },
  {
   "cell_type": "code",
   "execution_count": 4,
   "metadata": {},
   "outputs": [
    {
     "data": {
      "text/plain": [
       "KNeighborsClassifier(algorithm='auto', leaf_size=30, metric='minkowski',\n",
       "           metric_params=None, n_jobs=1, n_neighbors=5, p=2,\n",
       "           weights='uniform')"
      ]
     },
     "execution_count": 4,
     "metadata": {},
     "output_type": "execute_result"
    }
   ],
   "source": [
    "import re as regex\n",
    "training_X = synth_train.filter(regex=regex.compile('x'))\n",
    "training_y = synth_train.filter(regex=regex.compile('y')).y\n",
    "knn = KNeighborsClassifier(n_neighbors=5)\n",
    "knn.fit(training_X, training_y)"
   ]
  },
  {
   "cell_type": "markdown",
   "metadata": {},
   "source": [
    "# Question 1b"
   ]
  },
  {
   "cell_type": "code",
   "execution_count": 6,
   "metadata": {
    "scrolled": true
   },
   "outputs": [
    {
     "data": {
      "text/plain": [
       "26"
      ]
     },
     "execution_count": 6,
     "metadata": {},
     "output_type": "execute_result"
    }
   ],
   "source": [
    "import matplotlib.pyplot as plot\n",
    "\n",
    "accuracy = []\n",
    "\n",
    "validation_X = synth_valid.filter(regex=regex.compile('x'))\n",
    "validation_y = synth_valid.filter(regex=regex.compile('y')).y\n",
    "\n",
    "training_X = synth_train.filter(regex=regex.compile('x'))\n",
    "training_y = synth_train.filter(regex=regex.compile('y')).y\n",
    "\n",
    "for n in range(1, 100):\n",
    "    knn = KNeighborsClassifier(n_neighbors=n)\n",
    "    knn.fit(training_X, training_y)\n",
    "    accuracy.append(knn.score(validation_X, validation_y))\n",
    "\n",
    "plot.scatter(x=range(1,100), y=accuracy)\n",
    "max_accuracy = max(accuracy)\n",
    "best_k = accuracy.index(max_accuracy) + 1\n",
    "best_k"
   ]
  },
  {
   "cell_type": "markdown",
   "metadata": {},
   "source": [
    "Best value of k is 26 (may be tied with others. If tied, it is the lowest value of k among the tied.)"
   ]
  },
  {
   "cell_type": "markdown",
   "metadata": {},
   "source": [
    "# Question 1c"
   ]
  },
  {
   "cell_type": "code",
   "execution_count": 7,
   "metadata": {},
   "outputs": [
    {
     "data": {
      "text/plain": [
       "0.9700460829493087"
      ]
     },
     "execution_count": 7,
     "metadata": {},
     "output_type": "execute_result"
    }
   ],
   "source": [
    "test_X = synth_valid.filter(regex=regex.compile('x'))\n",
    "test_y = synth_valid.filter(regex=regex.compile('y')).y\n",
    "\n",
    "training_X = synth_train.filter(regex=regex.compile('x'))\n",
    "training_y = synth_train.filter(regex=regex.compile('y')).y\n",
    "\n",
    "knn = KNeighborsClassifier(n_neighbors=best_k)\n",
    "knn.fit(training_X, training_y)\n",
    "knn.score(test_X, test_y)"
   ]
  },
  {
   "cell_type": "markdown",
   "metadata": {},
   "source": [
    "97.0046%"
   ]
  }
 ],
 "metadata": {
  "kernelspec": {
   "display_name": "Python 2",
   "language": "python",
   "name": "python2"
  },
  "language_info": {
   "codemirror_mode": {
    "name": "ipython",
    "version": 2
   },
   "file_extension": ".py",
   "mimetype": "text/x-python",
   "name": "python",
   "nbconvert_exporter": "python",
   "pygments_lexer": "ipython2",
   "version": "2.7.15"
  }
 },
 "nbformat": 4,
 "nbformat_minor": 2
}
