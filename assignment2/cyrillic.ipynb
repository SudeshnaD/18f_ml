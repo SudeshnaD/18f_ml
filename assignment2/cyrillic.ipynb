{
 "cells": [
  {
   "cell_type": "code",
   "execution_count": 11,
   "metadata": {},
   "outputs": [
    {
     "name": "stdout",
     "output_type": "stream",
     "text": [
      "synth_all.csv\n",
      "red_test.csv\n",
      "red_valid.csv\n",
      "synth_train.csv\n",
      "red_train.csv\n",
      "synth_valid.csv\n",
      "synth_test.csv\n"
     ]
    }
   ],
   "source": [
    "import glob\n",
    "\n",
    "\n",
    "\n",
    "# for file in glob.glob(\"Cyrillic/*.csv\"):\n",
    "    "
   ]
  }
 ],
 "metadata": {
  "kernelspec": {
   "display_name": "Python 2",
   "language": "python",
   "name": "python2"
  },
  "language_info": {
   "codemirror_mode": {
    "name": "ipython",
    "version": 2
   },
   "file_extension": ".py",
   "mimetype": "text/x-python",
   "name": "python",
   "nbconvert_exporter": "python",
   "pygments_lexer": "ipython2",
   "version": "2.7.15"
  }
 },
 "nbformat": 4,
 "nbformat_minor": 2
}
