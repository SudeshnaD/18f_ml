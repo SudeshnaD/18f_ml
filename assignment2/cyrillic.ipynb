{
 "cells": [
  {
   "cell_type": "code",
   "execution_count": 59,
   "metadata": {
    "scrolled": false
   },
   "outputs": [
    {
     "data": {
      "text/html": [
       "<div>\n",
       "<style scoped>\n",
       "    .dataframe tbody tr th:only-of-type {\n",
       "        vertical-align: middle;\n",
       "    }\n",
       "\n",
       "    .dataframe tbody tr th {\n",
       "        vertical-align: top;\n",
       "    }\n",
       "\n",
       "    .dataframe thead th {\n",
       "        text-align: right;\n",
       "    }\n",
       "</style>\n",
       "<table border=\"1\" class=\"dataframe\">\n",
       "  <thead>\n",
       "    <tr style=\"text-align: right;\">\n",
       "      <th></th>\n",
       "      <th>classification</th>\n",
       "      <th>imageData</th>\n",
       "    </tr>\n",
       "  </thead>\n",
       "  <tbody>\n",
       "    <tr>\n",
       "      <th>0</th>\n",
       "      <td>Б</td>\n",
       "      <td>[(0, 0, 0, 0), (0, 0, 0, 0), (0, 0, 0, 0), (0,...</td>\n",
       "    </tr>\n",
       "    <tr>\n",
       "      <th>1</th>\n",
       "      <td>Б</td>\n",
       "      <td>[(0, 0, 0, 0), (0, 0, 0, 0), (0, 0, 0, 0), (0,...</td>\n",
       "    </tr>\n",
       "    <tr>\n",
       "      <th>2</th>\n",
       "      <td>Б</td>\n",
       "      <td>[(0, 0, 0, 0), (0, 0, 0, 0), (0, 0, 0, 0), (0,...</td>\n",
       "    </tr>\n",
       "    <tr>\n",
       "      <th>3</th>\n",
       "      <td>Б</td>\n",
       "      <td>[(0, 0, 0, 0), (0, 0, 0, 0), (0, 0, 0, 0), (0,...</td>\n",
       "    </tr>\n",
       "    <tr>\n",
       "      <th>4</th>\n",
       "      <td>Б</td>\n",
       "      <td>[(0, 0, 0, 0), (0, 0, 0, 0), (0, 0, 0, 0), (0,...</td>\n",
       "    </tr>\n",
       "  </tbody>\n",
       "</table>\n",
       "</div>"
      ],
      "text/plain": [
       "  classification                                          imageData\n",
       "0              Б  [(0, 0, 0, 0), (0, 0, 0, 0), (0, 0, 0, 0), (0,...\n",
       "1              Б  [(0, 0, 0, 0), (0, 0, 0, 0), (0, 0, 0, 0), (0,...\n",
       "2              Б  [(0, 0, 0, 0), (0, 0, 0, 0), (0, 0, 0, 0), (0,...\n",
       "3              Б  [(0, 0, 0, 0), (0, 0, 0, 0), (0, 0, 0, 0), (0,...\n",
       "4              Б  [(0, 0, 0, 0), (0, 0, 0, 0), (0, 0, 0, 0), (0,..."
      ]
     },
     "execution_count": 59,
     "metadata": {},
     "output_type": "execute_result"
    }
   ],
   "source": [
    "import os\n",
    "from PIL import Image\n",
    "import pandas as pd\n",
    "\n",
    "# Put a Cyrillic folder in the same folder as this file\n",
    "cyrillic_path = \"./Cyrillic\"\n",
    "\n",
    "meas = []\n",
    "classifications = []\n",
    "\n",
    "for dirName, subdirList, fileNames in os.walk(cyrillic_path):\n",
    "    for i, fileName in enumerate(fileNames):\n",
    "        if fileName.endswith(\".png\"):\n",
    "#             print \"{n}. {fileName}\".format(n=i, dirName=dirName, fileName=fileName)\n",
    "            img = Image.open(os.path.join(dirName, fileName))\n",
    "            bitmap = list(img.getdata())\n",
    "            img.close()\n",
    "            meas.append(bitmap)\n",
    "            character = dirName.split(\"/\")[-1]\n",
    "            classifications.append(character)\n",
    "#         if len(meas) > 200: break\n",
    "\n",
    "df = pd.DataFrame({\n",
    "    'classification': pd.Categorical(classifications),\n",
    "    'imageData': pd.Series(meas)\n",
    "})\n",
    "\n",
    "df.head()"
   ]
  }
 ],
 "metadata": {
  "kernelspec": {
   "display_name": "Python 2",
   "language": "python",
   "name": "python2"
  },
  "language_info": {
   "codemirror_mode": {
    "name": "ipython",
    "version": 2
   },
   "file_extension": ".py",
   "mimetype": "text/x-python",
   "name": "python",
   "nbconvert_exporter": "python",
   "pygments_lexer": "ipython2",
   "version": "2.7.15"
  }
 },
 "nbformat": 4,
 "nbformat_minor": 2
}
