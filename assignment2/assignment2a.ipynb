{
 "cells": [
  {
   "cell_type": "markdown",
   "metadata": {},
   "source": [
    "# K-Means "
   ]
  },
  {
   "cell_type": "code",
   "execution_count": 3,
   "metadata": {},
   "outputs": [],
   "source": [
    "import pandas as pd\n",
    "synth_all = pd.read_csv(\"synth_all.csv\")"
   ]
  },
  {
   "cell_type": "markdown",
   "metadata": {},
   "source": [
    "## Question 1a"
   ]
  },
  {
   "cell_type": "code",
   "execution_count": 4,
   "metadata": {},
   "outputs": [
    {
     "data": {
      "text/plain": [
       "<matplotlib.collections.PathCollection at 0x1a0fc36b90>"
      ]
     },
     "execution_count": 4,
     "metadata": {},
     "output_type": "execute_result"
    }
   ],
   "source": [
    "import matplotlib.pyplot as plot\n",
    "\n",
    "plot.scatter(x=synth_all.x1, y=synth_all.x2)"
   ]
  },
  {
   "cell_type": "markdown",
   "metadata": {},
   "source": [
    "## Question 1b"
   ]
  },
  {
   "cell_type": "markdown",
   "metadata": {},
   "source": [
    "I would put expect about 30 clusters"
   ]
  },
  {
   "cell_type": "markdown",
   "metadata": {},
   "source": [
    "## Question 2a"
   ]
  },
  {
   "cell_type": "code",
   "execution_count": 5,
   "metadata": {},
   "outputs": [],
   "source": [
    "from sklearn.cluster import KMeans "
   ]
  },
  {
   "cell_type": "code",
   "execution_count": 6,
   "metadata": {},
   "outputs": [],
   "source": [
    "kmeans = KMeans(n_clusters=30).fit(synth_all)"
   ]
  },
  {
   "cell_type": "markdown",
   "metadata": {},
   "source": [
    "## Question 2b"
   ]
  },
  {
   "cell_type": "code",
   "execution_count": 8,
   "metadata": {
    "scrolled": true
   },
   "outputs": [
    {
     "name": "stdout",
     "output_type": "stream",
     "text": [
      "# Clusters: 28\n",
      "AIC: 35483\n",
      "BIC: 36491\n",
      "# Clusters: 29\n",
      "AIC: 35438\n",
      "BIC: 36483\n",
      "# Clusters: 30\n",
      "AIC: 35399\n",
      "BIC: 36480\n",
      "# Clusters: 31\n",
      "AIC: 35368\n",
      "BIC: 36485\n",
      "# Clusters: 32\n",
      "AIC: 35360\n",
      "BIC: 36513\n",
      "# Clusters: 33\n",
      "AIC: 35269\n",
      "BIC: 36458\n"
     ]
    }
   ],
   "source": [
    "from sklearn.mixture import GaussianMixture\n",
    "\n",
    "## TODO: NEED TO PLOT THIS!\n",
    "for n in range(28,34):\n",
    "    gm = GaussianMixture(n_components=n).fit(synth_all)\n",
    "\n",
    "    print '# Clusters: %i'%(n)\n",
    "    print 'AIC: %i'%(gm.aic(synth_all))\n",
    "    print 'BIC: %i'%(gm.bic(synth_all))"
   ]
  },
  {
   "cell_type": "markdown",
   "metadata": {},
   "source": [
    "## Question 2c"
   ]
  },
  {
   "cell_type": "markdown",
   "metadata": {},
   "source": [
    "31 Clusters is optimal under AIC. 30 is optimal under BIC. This approximately matches my visual inspection."
   ]
  },
  {
   "cell_type": "markdown",
   "metadata": {},
   "source": [
    "# K-Nearest Neighbors"
   ]
  },
  {
   "cell_type": "code",
   "execution_count": 11,
   "metadata": {},
   "outputs": [],
   "source": [
    "from sklearn.neighbors import KNeighborsClassifier\n",
    "synth_train = pd.read_csv(\"synth_train.csv\")\n",
    "synth_valid = pd.read_csv(\"synth_valid.csv\")\n",
    "synth_test = pd.read_csv(\"synth_test.csv\")"
   ]
  },
  {
   "cell_type": "markdown",
   "metadata": {},
   "source": [
    "## Question 1a"
   ]
  },
  {
   "cell_type": "code",
   "execution_count": 19,
   "metadata": {},
   "outputs": [
    {
     "data": {
      "text/plain": [
       "KNeighborsClassifier(algorithm='auto', leaf_size=30, metric='minkowski',\n",
       "           metric_params=None, n_jobs=1, n_neighbors=5, p=2,\n",
       "           weights='uniform')"
      ]
     },
     "execution_count": 19,
     "metadata": {},
     "output_type": "execute_result"
    }
   ],
   "source": [
    "import re as regex\n",
    "training_X = synth_train.filter(regex=regex.compile('x'))\n",
    "training_y = synth_train.filter(regex=regex.compile('y')).y\n",
    "knn = KNeighborsClassifier(n_neighbors=5)\n",
    "knn.fit(training_X, training_y)"
   ]
  },
  {
   "cell_type": "markdown",
   "metadata": {},
   "source": [
    "## Question 1b"
   ]
  },
  {
   "cell_type": "code",
   "execution_count": 27,
   "metadata": {
    "scrolled": true
   },
   "outputs": [
    {
     "data": {
      "text/plain": [
       "26"
      ]
     },
     "execution_count": 27,
     "metadata": {},
     "output_type": "execute_result"
    },
    {
     "data": {
      "image/png": "[encoded data removed]",
      "text/plain": [
       "<Figure size 432x288 with 1 Axes>"
      ]
     },
     "metadata": {},
     "output_type": "display_data"
    }
   ],
   "source": [
    "accuracy = []\n",
    "\n",
    "validation_X = synth_valid.filter(regex=regex.compile('x'))\n",
    "validation_y = synth_valid.filter(regex=regex.compile('y')).y\n",
    "\n",
    "training_X = synth_train.filter(regex=regex.compile('x'))\n",
    "training_y = synth_train.filter(regex=regex.compile('y')).y\n",
    "\n",
    "for n in range(1, 100):\n",
    "    knn = KNeighborsClassifier(n_neighbors=n)\n",
    "    knn.fit(training_X, training_y)\n",
    "    accuracy.append(knn.score(validation_X, validation_y))\n",
    "\n",
    "plot.scatter(x=range(1,100), y=accuracy)\n",
    "max_accuracy = max(accuracy)\n",
    "best_k = accuracy.index(max_accuracy) + 1\n",
    "best_k"
   ]
  },
  {
   "cell_type": "markdown",
   "metadata": {},
   "source": [
    "Best value of k is 26 (may be tied with others. If tied, it is the lowest value of k among the tied.)"
   ]
  },
  {
   "cell_type": "markdown",
   "metadata": {},
   "source": [
    "## Question 1c"
   ]
  },
  {
   "cell_type": "code",
   "execution_count": 28,
   "metadata": {},
   "outputs": [
    {
     "data": {
      "text/plain": [
       "0.9700460829493087"
      ]
     },
     "execution_count": 28,
     "metadata": {},
     "output_type": "execute_result"
    }
   ],
   "source": [
    "test_X = synth_valid.filter(regex=regex.compile('x'))\n",
    "test_y = synth_valid.filter(regex=regex.compile('y')).y\n",
    "\n",
    "training_X = synth_train.filter(regex=regex.compile('x'))\n",
    "training_y = synth_train.filter(regex=regex.compile('y')).y\n",
    "\n",
    "knn = KNeighborsClassifier(n_neighbors=best_k)\n",
    "knn.fit(training_X, training_y)\n",
    "knn.score(test_X, test_y)"
   ]
  },
  {
   "cell_type": "markdown",
   "metadata": {},
   "source": [
    "97.0046%"
   ]
  },
  {
   "cell_type": "markdown",
   "metadata": {},
   "source": [
    "# Decision Tree Classification"
   ]
  },
  {
   "cell_type": "code",
   "execution_count": null,
   "metadata": {},
   "outputs": [],
   "source": []
  }
 ],
 "metadata": {
  "kernelspec": {
   "display_name": "Python 2",
   "language": "python",
   "name": "python2"
  },
  "language_info": {
   "codemirror_mode": {
    "name": "ipython",
    "version": 2
   },
   "file_extension": ".py",
   "mimetype": "text/x-python",
   "name": "python",
   "nbconvert_exporter": "python",
   "pygments_lexer": "ipython2",
   "version": "2.7.15"
  }
 },
 "nbformat": 4,
 "nbformat_minor": 2
}
