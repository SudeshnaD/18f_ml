{
 "cells": [
  {
   "cell_type": "code",
   "execution_count": 5,
   "metadata": {},
   "outputs": [],
   "source": [
    "import pandas as pd\n",
    "\n",
    "red_train = pd.read_csv(\"red_train.csv\")\n",
    "red_test = pd.read_csv(\"red_test.csv\")\n",
    "red_valid = pd.read_csv(\"red_valid.csv\")"
   ]
  },
  {
   "cell_type": "markdown",
   "metadata": {},
   "source": [
    "# Question 1a"
   ]
  },
  {
   "cell_type": "code",
   "execution_count": 76,
   "metadata": {},
   "outputs": [
    {
     "name": "stdout",
     "output_type": "stream",
     "text": [
      "red_train: 895\n",
      "red_test: 480\n",
      "red_valid: 224\n"
     ]
    }
   ],
   "source": [
    "print \"red_train: %i\"%(red_train.index.size)\n",
    "print \"red_test: %i\"%(red_test.index.size)\n",
    "print \"red_valid: %i\"%(red_valid.index.size)"
   ]
  },
  {
   "cell_type": "markdown",
   "metadata": {},
   "source": [
    "# Question 1b"
   ]
  },
  {
   "cell_type": "code",
   "execution_count": 22,
   "metadata": {},
   "outputs": [
    {
     "name": "stdout",
     "output_type": "stream",
     "text": [
      "Number of features: 11\n"
     ]
    }
   ],
   "source": [
    "print \"Number of features: %i\"%(red_train.columns.size - 1) # Subtract 1 because 1 column is the independent var"
   ]
  },
  {
   "cell_type": "markdown",
   "metadata": {},
   "source": [
    "# Question 1c"
   ]
  },
  {
   "cell_type": "code",
   "execution_count": 78,
   "metadata": {},
   "outputs": [
    {
     "name": "stdout",
     "output_type": "stream",
     "text": [
      "average alcohol: 10.397952\n",
      "average pH: 3.309542\n"
     ]
    }
   ],
   "source": [
    "print \"average alcohol: %f\"%(red_train.alcohol.mean())\n",
    "print \"average pH: %f\"%(red_train.pH.mean())"
   ]
  },
  {
   "cell_type": "markdown",
   "metadata": {},
   "source": [
    "# Question 2a"
   ]
  },
  {
   "cell_type": "code",
   "execution_count": 52,
   "metadata": {
    "scrolled": true
   },
   "outputs": [
    {
     "data": {
      "text/plain": [
       "DecisionTreeClassifier(class_weight=None, criterion='gini', max_depth=None,\n",
       "            max_features=None, max_leaf_nodes=None,\n",
       "            min_impurity_decrease=0.0, min_impurity_split=None,\n",
       "            min_samples_leaf=1, min_samples_split=2,\n",
       "            min_weight_fraction_leaf=0.0, presort=False, random_state=None,\n",
       "            splitter='best')"
      ]
     },
     "execution_count": 52,
     "metadata": {},
     "output_type": "execute_result"
    }
   ],
   "source": [
    "from sklearn.tree import DecisionTreeClassifier\n",
    "import re as regex\n",
    "\n",
    "tree = DecisionTreeClassifier()\n",
    "train_X = red_train.drop(['quality'], axis=1)\n",
    "train_y = red_train.quality\n",
    "tree.fit(train_X, train_y)"
   ]
  },
  {
   "cell_type": "markdown",
   "metadata": {},
   "source": [
    "# Question 2b"
   ]
  },
  {
   "cell_type": "code",
   "execution_count": 85,
   "metadata": {},
   "outputs": [
    {
     "data": {
      "image/png": "[encoded data removed]",
      "text/plain": [
       "<Figure size 432x288 with 1 Axes>"
      ]
     },
     "metadata": {},
     "output_type": "display_data"
    }
   ],
   "source": [
    "max_depths = range(1, 100)\n",
    "accuracies = []\n",
    "\n",
    "valid_X = red_valid.drop(['quality'], axis=1)\n",
    "valid_y = red_valid.quality\n",
    "\n",
    "for i in max_depths:\n",
    "    tree = DecisionTreeClassifier(max_depth=i)\n",
    "    tree.fit(train_X, train_y)\n",
    "    accuracies.append(tree.score(valid_X, valid_y))\n",
    "\n",
    "import matplotlib.pyplot as plot\n",
    "plot.scatter(max_depths, accuracies)\n",
    "plot.show()"
   ]
  },
  {
   "cell_type": "markdown",
   "metadata": {},
   "source": [
    "# Question 2c"
   ]
  },
  {
   "cell_type": "code",
   "execution_count": 86,
   "metadata": {},
   "outputs": [
    {
     "data": {
      "text/plain": [
       "0.58125"
      ]
     },
     "execution_count": 86,
     "metadata": {},
     "output_type": "execute_result"
    }
   ],
   "source": [
    "test_X = red_test.drop(['quality'], axis=1)\n",
    "test_y = red_test.quality\n",
    "\n",
    "max_accuracy = max(accuracies)\n",
    "best_max_depth = max_depths[accuracies.index(max_accuracy)]\n",
    "\n",
    "DecisionTreeClassifier(max_depth=best_max_depth).fit(train_X, train_y).score(test_X, test_y)"
   ]
  }
 ],
 "metadata": {
  "kernelspec": {
   "display_name": "Python 2",
   "language": "python",
   "name": "python2"
  },
  "language_info": {
   "codemirror_mode": {
    "name": "ipython",
    "version": 2
   },
   "file_extension": ".py",
   "mimetype": "text/x-python",
   "name": "python",
   "nbconvert_exporter": "python",
   "pygments_lexer": "ipython2",
   "version": "2.7.15"
  }
 },
 "nbformat": 4,
 "nbformat_minor": 2
}
