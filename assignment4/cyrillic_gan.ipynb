{
 "cells": [
  {
   "cell_type": "markdown",
   "metadata": {},
   "source": [
    "# TAs:\n",
    "Install Keras-Adversarial library\n",
    "\n",
    "https://github.com/bstriner/keras-adversarial#installation\n",
    "\n",
    "Also, use Keras 2.1.2"
   ]
  },
  {
   "cell_type": "code",
   "execution_count": 25,
   "metadata": {},
   "outputs": [],
   "source": [
    "import matplotlib as mpl\n",
    "import pandas as pd\n",
    "import numpy as np\n",
    "import os\n",
    "from keras.layers import Reshape, Flatten, LeakyReLU, Activation\n",
    "from keras.models import Sequential\n",
    "from keras.optimizers import Adam\n",
    "from keras.callbacks import TensorBoard\n",
    "from keras_adversarial.image_grid_callback import ImageGridCallback\n",
    "from keras_adversarial import AdversarialModel, simple_gan, gan_targets\n",
    "from keras_adversarial import normal_latent_sampling, AdversarialOptimizerSimultaneous\n",
    "from keras_adversarial.legacy import l1l2, Dense, fit\n",
    "import keras.backend as K"
   ]
  },
  {
   "cell_type": "code",
   "execution_count": 26,
   "metadata": {},
   "outputs": [],
   "source": [
    "IMAGE_EDGE_SIZE = 50\n",
    "LATENT_DIM = IMAGE_EDGE_SIZE ** 2\n",
    "IMAGE_SHAPE = (IMAGE_EDGE_SIZE, IMAGE_EDGE_SIZE)\n",
    "HIDDEN_DIM = 1024\n",
    "REGULARIZER = lambda: l1l2(1e-5, 1e-5)\n",
    "LOSS_FUNCTION = 'binary_crossentropy'\n",
    "OUTPUT_PATH = \"output/gan\"\n",
    "NB_EPOCH = 100"
   ]
  },
  {
   "cell_type": "code",
   "execution_count": 27,
   "metadata": {},
   "outputs": [],
   "source": [
    "generator_layers = [\n",
    "        Dense(int(HIDDEN_DIM / 4), name=\"gen1\", input_dim=LATENT_DIM, W_regularizer=REGULARIZER()),\n",
    "        LeakyReLU(0.2),\n",
    "        Dense(int(HIDDEN_DIM / 2), name=\"gen2\", W_regularizer=REGULARIZER()),\n",
    "        LeakyReLU(0.2),\n",
    "        Dense(HIDDEN_DIM, name=\"gen3\", W_regularizer=REGULARIZER()),\n",
    "        LeakyReLU(0.2),\n",
    "        Dense(np.prod(IMAGE_SHAPE), name=\"genx_flat\", W_regularizer=REGULARIZER()),\n",
    "        Activation('sigmoid'),\n",
    "        Reshape(IMAGE_SHAPE, name=\"genx\")]\n",
    "\n",
    "generator = Sequential(generator_layers,\n",
    "        name=\"generator\")\n",
    "\n",
    "# generator.summary()"
   ]
  },
  {
   "cell_type": "code",
   "execution_count": 28,
   "metadata": {},
   "outputs": [],
   "source": [
    "discriminator_layers = [\n",
    "        Flatten(name=\"disc1\", input_shape=IMAGE_SHAPE),\n",
    "        Dense(HIDDEN_DIM, name=\"disc2\", W_regularizer=REGULARIZER()),\n",
    "        LeakyReLU(0.2),\n",
    "        Dense(int(HIDDEN_DIM / 2), name=\"disc3\", W_regularizer=REGULARIZER()),\n",
    "        LeakyReLU(0.2),\n",
    "        Dense(int(HIDDEN_DIM / 4), name=\"disc4\", W_regularizer=REGULARIZER()),\n",
    "        LeakyReLU(0.2),\n",
    "        Dense(1, name=\"discy\", W_regularizer=REGULARIZER()),\n",
    "        Activation(\"sigmoid\")]\n",
    "              \n",
    "discriminator = Sequential(discriminator_layers,\n",
    "        name=\"discriminator\")\n",
    "\n",
    "# discriminator.summary()"
   ]
  },
  {
   "cell_type": "code",
   "execution_count": 29,
   "metadata": {},
   "outputs": [],
   "source": [
    "gan = simple_gan(generator, discriminator, normal_latent_sampling((LATENT_DIM,)))\n",
    "# gan.summary()"
   ]
  },
  {
   "cell_type": "code",
   "execution_count": 30,
   "metadata": {},
   "outputs": [],
   "source": [
    "adv_optimizer = AdversarialOptimizerSimultaneous()\n",
    "output_path = \"output/gan\"\n",
    "generator_optimizer = Adam(1e-4, decay=1e-4)\n",
    "discriminator_optimizer = Adam(1e-3, decay=1e-4)"
   ]
  },
  {
   "cell_type": "code",
   "execution_count": 31,
   "metadata": {
    "scrolled": true
   },
   "outputs": [],
   "source": [
    "model = AdversarialModel(base_model=gan,\n",
    "                         player_params=[generator.trainable_weights, discriminator.trainable_weights],\n",
    "                         player_names=[\"generator\", \"discriminator\"]\n",
    "                        )\n",
    "model.adversarial_compile(adversarial_optimizer=adv_optimizer,\n",
    "                          player_optimizers=[generator_optimizer, discriminator_optimizer],\n",
    "                          loss=LOSS_FUNCTION)"
   ]
  },
  {
   "cell_type": "code",
   "execution_count": 32,
   "metadata": {},
   "outputs": [],
   "source": [
    "# create callback to generate images\n",
    "zsamples = np.random.normal(size=(10 * 10, LATENT_DIM))\n",
    "\n",
    "def generator_sampler():\n",
    "    return generator.predict(zsamples).reshape((10, 10, 28, 28))\n",
    "\n",
    "generator_cb = ImageGridCallback(os.path.join(OUTPUT_PATH, \"epoch-{:03d}.png\"), generator_sampler)"
   ]
  },
  {
   "cell_type": "code",
   "execution_count": 33,
   "metadata": {},
   "outputs": [],
   "source": [
    "# Method that takes a filepath to the folder containing the cyrillic images. Loops through each file, returning\n",
    "# a dataframe with the image data and classification in a pandas dataframe.\n",
    "\n",
    "from PIL import Image\n",
    "\n",
    "def build_images_data(cyrillic_path):\n",
    "    df = pd.DataFrame()\n",
    "\n",
    "    for dirName, subdirList, fileNames in os.walk(cyrillic_path):\n",
    "        for i, fileName in enumerate(fileNames):\n",
    "            if fileName.endswith(\".png\"):\n",
    "    #             print \"{n}. {dirName}/{fileName}\".format(n=i, dirName=dirName, fileName=fileName)\n",
    "                img_bitmap = get_image_data(os.path.join(dirName, fileName))\n",
    "                character = dirName.split(\"/\")[-1]\n",
    "                df = df.append(pd.DataFrame([[character, img_bitmap]], columns=['classification', 'imageData']), ignore_index=True)\n",
    "        \n",
    "    return df"
   ]
  },
  {
   "cell_type": "code",
   "execution_count": 34,
   "metadata": {},
   "outputs": [],
   "source": [
    "# Method for taking a filepath to the cyrillic png and returning transformed data.\n",
    "# This method returns a flat array of 0s and 1s, according to whether the image was black or white.\n",
    "binarizer = np.vectorize(lambda i: 1 if i > 0 else 0)\n",
    "\n",
    "def get_image_data(filepath):\n",
    "        img = Image.open(filepath)\n",
    "        img = img.resize((IMAGE_EDGE_SIZE, IMAGE_EDGE_SIZE), Image.ANTIALIAS)\n",
    "        bitmap = np.array(img.getdata())\n",
    "#         bitmap = bitmap[:,3] # only need the fourth item in the RGB (transparency)\n",
    "#         bitmap = binarizer(bitmap) # change bitmap to 1 or 0\n",
    "        img.close()\n",
    "        return bitmap"
   ]
  },
  {
   "cell_type": "code",
   "execution_count": 35,
   "metadata": {
    "scrolled": true
   },
   "outputs": [],
   "source": [
    "# train model\n",
    "cyrillic_path = \"../Cyrillic\"\n",
    "        \n",
    "df = build_images_data(cyrillic_path)\n",
    "y_data = pd.Categorical(df[\"classification\"]).codes\n",
    "x_data = list(df[\"imageData\"].values)"
   ]
  },
  {
   "cell_type": "code",
   "execution_count": 36,
   "metadata": {},
   "outputs": [],
   "source": [
    "from sklearn.model_selection import train_test_split\n",
    "\n",
    "x_train, x_test, y_train, y_test = train_test_split(x_data, y_data, test_size=0.3)\n",
    "x_train = np.array(x_train)\n",
    "x_test = np.array(x_test)\n",
    "y = gan_targets(x_train.shape[0])\n",
    "ytest = gan_targets(x_test.shape[0])\n",
    "\n",
    "UNIQUE_CLASSES = pd.Categorical(df['classification']).unique()\n",
    "N_CLASSES = len(UNIQUE_CLASSES)"
   ]
  },
  {
   "cell_type": "code",
   "execution_count": 37,
   "metadata": {},
   "outputs": [
    {
     "ename": "ValueError",
     "evalue": "Error when checking input: expected disc1_input to have shape (None, 50, 50) but got array with shape (10836, 2500, 4)",
     "output_type": "error",
     "traceback": [
      "\u001b[0;31m---------------------------------------------------------------------------\u001b[0m",
      "\u001b[0;31mValueError\u001b[0m                                Traceback (most recent call last)",
      "\u001b[0;32m<ipython-input-37-1cd9a50efcc3>\u001b[0m in \u001b[0;36m<module>\u001b[0;34m()\u001b[0m\n\u001b[1;32m      5\u001b[0m \u001b[0;31m#     callbacks.append(\u001b[0m\u001b[0;34m\u001b[0m\u001b[0;34m\u001b[0m\u001b[0m\n\u001b[1;32m      6\u001b[0m \u001b[0;31m#         TensorBoard(log_dir=os.path.join(OUTPUT_PATH, 'logs'), histogram_freq=0, write_graph=True, write_images=True))\u001b[0m\u001b[0;34m\u001b[0m\u001b[0;34m\u001b[0m\u001b[0m\n\u001b[0;32m----> 7\u001b[0;31m \u001b[0mhistory\u001b[0m \u001b[0;34m=\u001b[0m \u001b[0mfit\u001b[0m\u001b[0;34m(\u001b[0m\u001b[0mmodel\u001b[0m\u001b[0;34m,\u001b[0m \u001b[0mx\u001b[0m\u001b[0;34m=\u001b[0m\u001b[0mx_train\u001b[0m\u001b[0;34m,\u001b[0m \u001b[0my\u001b[0m\u001b[0;34m=\u001b[0m\u001b[0my_train\u001b[0m\u001b[0;34m,\u001b[0m \u001b[0mvalidation_data\u001b[0m\u001b[0;34m=\u001b[0m\u001b[0;34m(\u001b[0m\u001b[0mx_test\u001b[0m\u001b[0;34m,\u001b[0m \u001b[0my_test\u001b[0m\u001b[0;34m)\u001b[0m\u001b[0;34m,\u001b[0m \u001b[0mcallbacks\u001b[0m\u001b[0;34m=\u001b[0m\u001b[0mcallbacks\u001b[0m\u001b[0;34m,\u001b[0m \u001b[0mnb_epoch\u001b[0m\u001b[0;34m=\u001b[0m\u001b[0mNB_EPOCH\u001b[0m\u001b[0;34m,\u001b[0m \u001b[0mbatch_size\u001b[0m\u001b[0;34m=\u001b[0m\u001b[0;36m32\u001b[0m\u001b[0;34m)\u001b[0m\u001b[0;34m\u001b[0m\u001b[0m\n\u001b[0m\u001b[1;32m      8\u001b[0m \u001b[0;34m\u001b[0m\u001b[0m\n\u001b[1;32m      9\u001b[0m \u001b[0;31m# save models\u001b[0m\u001b[0;34m\u001b[0m\u001b[0;34m\u001b[0m\u001b[0m\n",
      "\u001b[0;32m/Users/mozhu/anaconda2/lib/python2.7/site-packages/keras_adversarial-0.0.3-py2.7.egg/keras_adversarial/legacy.pyc\u001b[0m in \u001b[0;36mfit\u001b[0;34m(model, x, y, nb_epoch, *args, **kwargs)\u001b[0m\n\u001b[1;32m     16\u001b[0m \u001b[0;32mdef\u001b[0m \u001b[0mfit\u001b[0m\u001b[0;34m(\u001b[0m\u001b[0mmodel\u001b[0m\u001b[0;34m,\u001b[0m \u001b[0mx\u001b[0m\u001b[0;34m,\u001b[0m \u001b[0my\u001b[0m\u001b[0;34m,\u001b[0m \u001b[0mnb_epoch\u001b[0m\u001b[0;34m=\u001b[0m\u001b[0;36m10\u001b[0m\u001b[0;34m,\u001b[0m \u001b[0;34m*\u001b[0m\u001b[0margs\u001b[0m\u001b[0;34m,\u001b[0m \u001b[0;34m**\u001b[0m\u001b[0mkwargs\u001b[0m\u001b[0;34m)\u001b[0m\u001b[0;34m:\u001b[0m\u001b[0;34m\u001b[0m\u001b[0m\n\u001b[1;32m     17\u001b[0m     \u001b[0;32mif\u001b[0m \u001b[0mkeras_2\u001b[0m\u001b[0;34m:\u001b[0m\u001b[0;34m\u001b[0m\u001b[0m\n\u001b[0;32m---> 18\u001b[0;31m         \u001b[0;32mreturn\u001b[0m \u001b[0mmodel\u001b[0m\u001b[0;34m.\u001b[0m\u001b[0mfit\u001b[0m\u001b[0;34m(\u001b[0m\u001b[0mx\u001b[0m\u001b[0;34m,\u001b[0m \u001b[0my\u001b[0m\u001b[0;34m,\u001b[0m \u001b[0;34m*\u001b[0m\u001b[0margs\u001b[0m\u001b[0;34m,\u001b[0m \u001b[0mepochs\u001b[0m\u001b[0;34m=\u001b[0m\u001b[0mnb_epoch\u001b[0m\u001b[0;34m,\u001b[0m \u001b[0;34m**\u001b[0m\u001b[0mkwargs\u001b[0m\u001b[0;34m)\u001b[0m\u001b[0;34m\u001b[0m\u001b[0m\n\u001b[0m\u001b[1;32m     19\u001b[0m     \u001b[0;32melse\u001b[0m\u001b[0;34m:\u001b[0m\u001b[0;34m\u001b[0m\u001b[0m\n\u001b[1;32m     20\u001b[0m         \u001b[0;32mreturn\u001b[0m \u001b[0mmodel\u001b[0m\u001b[0;34m.\u001b[0m\u001b[0mfit\u001b[0m\u001b[0;34m(\u001b[0m\u001b[0mx\u001b[0m\u001b[0;34m,\u001b[0m \u001b[0my\u001b[0m\u001b[0;34m,\u001b[0m \u001b[0;34m*\u001b[0m\u001b[0margs\u001b[0m\u001b[0;34m,\u001b[0m \u001b[0mnb_epoch\u001b[0m\u001b[0;34m=\u001b[0m\u001b[0mnb_epoch\u001b[0m\u001b[0;34m,\u001b[0m \u001b[0;34m**\u001b[0m\u001b[0mkwargs\u001b[0m\u001b[0;34m)\u001b[0m\u001b[0;34m\u001b[0m\u001b[0m\n",
      "\u001b[0;32m/Users/mozhu/anaconda2/lib/python2.7/site-packages/keras/engine/training.pyc\u001b[0m in \u001b[0;36mfit\u001b[0;34m(self, x, y, batch_size, epochs, verbose, callbacks, validation_split, validation_data, shuffle, class_weight, sample_weight, initial_epoch, steps_per_epoch, validation_steps, **kwargs)\u001b[0m\n\u001b[1;32m   1579\u001b[0m             \u001b[0mclass_weight\u001b[0m\u001b[0;34m=\u001b[0m\u001b[0mclass_weight\u001b[0m\u001b[0;34m,\u001b[0m\u001b[0;34m\u001b[0m\u001b[0m\n\u001b[1;32m   1580\u001b[0m             \u001b[0mcheck_batch_axis\u001b[0m\u001b[0;34m=\u001b[0m\u001b[0mFalse\u001b[0m\u001b[0;34m,\u001b[0m\u001b[0;34m\u001b[0m\u001b[0m\n\u001b[0;32m-> 1581\u001b[0;31m             batch_size=batch_size)\n\u001b[0m\u001b[1;32m   1582\u001b[0m         \u001b[0;31m# Prepare validation data.\u001b[0m\u001b[0;34m\u001b[0m\u001b[0;34m\u001b[0m\u001b[0m\n\u001b[1;32m   1583\u001b[0m         \u001b[0mdo_validation\u001b[0m \u001b[0;34m=\u001b[0m \u001b[0mFalse\u001b[0m\u001b[0;34m\u001b[0m\u001b[0m\n",
      "\u001b[0;32m/Users/mozhu/anaconda2/lib/python2.7/site-packages/keras/engine/training.pyc\u001b[0m in \u001b[0;36m_standardize_user_data\u001b[0;34m(self, x, y, sample_weight, class_weight, check_batch_axis, batch_size)\u001b[0m\n\u001b[1;32m   1412\u001b[0m                                     \u001b[0mself\u001b[0m\u001b[0;34m.\u001b[0m\u001b[0m_feed_input_shapes\u001b[0m\u001b[0;34m,\u001b[0m\u001b[0;34m\u001b[0m\u001b[0m\n\u001b[1;32m   1413\u001b[0m                                     \u001b[0mcheck_batch_axis\u001b[0m\u001b[0;34m=\u001b[0m\u001b[0mFalse\u001b[0m\u001b[0;34m,\u001b[0m\u001b[0;34m\u001b[0m\u001b[0m\n\u001b[0;32m-> 1414\u001b[0;31m                                     exception_prefix='input')\n\u001b[0m\u001b[1;32m   1415\u001b[0m         y = _standardize_input_data(y, self._feed_output_names,\n\u001b[1;32m   1416\u001b[0m                                     \u001b[0moutput_shapes\u001b[0m\u001b[0;34m,\u001b[0m\u001b[0;34m\u001b[0m\u001b[0m\n",
      "\u001b[0;32m/Users/mozhu/anaconda2/lib/python2.7/site-packages/keras/engine/training.pyc\u001b[0m in \u001b[0;36m_standardize_input_data\u001b[0;34m(data, names, shapes, check_batch_axis, exception_prefix)\u001b[0m\n\u001b[1;32m    151\u001b[0m                             \u001b[0;34m' to have shape '\u001b[0m \u001b[0;34m+\u001b[0m \u001b[0mstr\u001b[0m\u001b[0;34m(\u001b[0m\u001b[0mshapes\u001b[0m\u001b[0;34m[\u001b[0m\u001b[0mi\u001b[0m\u001b[0;34m]\u001b[0m\u001b[0;34m)\u001b[0m \u001b[0;34m+\u001b[0m\u001b[0;34m\u001b[0m\u001b[0m\n\u001b[1;32m    152\u001b[0m                             \u001b[0;34m' but got array with shape '\u001b[0m \u001b[0;34m+\u001b[0m\u001b[0;34m\u001b[0m\u001b[0m\n\u001b[0;32m--> 153\u001b[0;31m                             str(array.shape))\n\u001b[0m\u001b[1;32m    154\u001b[0m     \u001b[0;32mreturn\u001b[0m \u001b[0marrays\u001b[0m\u001b[0;34m\u001b[0m\u001b[0m\n\u001b[1;32m    155\u001b[0m \u001b[0;34m\u001b[0m\u001b[0m\n",
      "\u001b[0;31mValueError\u001b[0m: Error when checking input: expected disc1_input to have shape (None, 50, 50) but got array with shape (10836, 2500, 4)"
     ]
    }
   ],
   "source": [
    "# callbacks = [generator_cb]\n",
    "callbacks = []\n",
    "\n",
    "# if K.backend() == \"tensorflow\":\n",
    "#     callbacks.append(\n",
    "#         TensorBoard(log_dir=os.path.join(OUTPUT_PATH, 'logs'), histogram_freq=0, write_graph=True, write_images=True))\n",
    "history = fit(model, x=x_train, y=y_train, validation_data=(x_test, y_test), callbacks=callbacks, nb_epoch=NB_EPOCH, batch_size=32)\n",
    "\n",
    "# save models\n",
    "generator.save(os.path.join(path, \"generator.h5\"))\n",
    "discriminator.save(os.path.join(path, \"discriminator.h5\"))"
   ]
  },
  {
   "cell_type": "code",
   "execution_count": 4,
   "metadata": {
    "scrolled": true
   },
   "outputs": [
    {
     "data": {
      "text/html": [
       "<div>\n",
       "<style scoped>\n",
       "    .dataframe tbody tr th:only-of-type {\n",
       "        vertical-align: middle;\n",
       "    }\n",
       "\n",
       "    .dataframe tbody tr th {\n",
       "        vertical-align: top;\n",
       "    }\n",
       "\n",
       "    .dataframe thead th {\n",
       "        text-align: right;\n",
       "    }\n",
       "</style>\n",
       "<table border=\"1\" class=\"dataframe\">\n",
       "  <thead>\n",
       "    <tr style=\"text-align: right;\">\n",
       "      <th></th>\n",
       "      <th>classification</th>\n",
       "      <th>imageData</th>\n",
       "    </tr>\n",
       "  </thead>\n",
       "  <tbody>\n",
       "    <tr>\n",
       "      <th>0</th>\n",
       "      <td>Б</td>\n",
       "      <td>[0, 0, 0, 0, 0, 0, 0, 0, 0, 0, 0, 0, 0, 0, 0, ...</td>\n",
       "    </tr>\n",
       "    <tr>\n",
       "      <th>1</th>\n",
       "      <td>Б</td>\n",
       "      <td>[0, 0, 0, 0, 0, 0, 0, 0, 0, 0, 0, 0, 0, 0, 0, ...</td>\n",
       "    </tr>\n",
       "    <tr>\n",
       "      <th>2</th>\n",
       "      <td>Б</td>\n",
       "      <td>[0, 0, 0, 0, 0, 0, 0, 0, 0, 0, 0, 0, 0, 0, 0, ...</td>\n",
       "    </tr>\n",
       "    <tr>\n",
       "      <th>3</th>\n",
       "      <td>Б</td>\n",
       "      <td>[0, 0, 0, 0, 0, 0, 0, 0, 0, 0, 0, 0, 0, 0, 0, ...</td>\n",
       "    </tr>\n",
       "    <tr>\n",
       "      <th>4</th>\n",
       "      <td>Б</td>\n",
       "      <td>[0, 0, 0, 0, 0, 0, 0, 0, 0, 0, 0, 0, 0, 0, 1, ...</td>\n",
       "    </tr>\n",
       "  </tbody>\n",
       "</table>\n",
       "</div>"
      ],
      "text/plain": [
       "  classification                                          imageData\n",
       "0              Б  [0, 0, 0, 0, 0, 0, 0, 0, 0, 0, 0, 0, 0, 0, 0, ...\n",
       "1              Б  [0, 0, 0, 0, 0, 0, 0, 0, 0, 0, 0, 0, 0, 0, 0, ...\n",
       "2              Б  [0, 0, 0, 0, 0, 0, 0, 0, 0, 0, 0, 0, 0, 0, 0, ...\n",
       "3              Б  [0, 0, 0, 0, 0, 0, 0, 0, 0, 0, 0, 0, 0, 0, 0, ...\n",
       "4              Б  [0, 0, 0, 0, 0, 0, 0, 0, 0, 0, 0, 0, 0, 0, 1, ..."
      ]
     },
     "execution_count": 4,
     "metadata": {},
     "output_type": "execute_result"
    }
   ],
   "source": [
    "# Put a Cyrillic folder in the same folder as this file\n",
    "cyrillic_path = \"../Cyrillic\"\n",
    "        \n",
    "df = build_images_data(cyrillic_path)\n",
    "\n",
    "df.head()"
   ]
  },
  {
   "cell_type": "code",
   "execution_count": 5,
   "metadata": {},
   "outputs": [],
   "source": [
    "y_data = pd.Categorical(df[\"classification\"]).codes\n",
    "x_data = list(df[\"imageData\"].values)\n",
    "\n",
    "UNIQUE_CLASSES = pd.Categorical(df['classification']).unique()\n",
    "N_CLASSES = len(UNIQUE_CLASSES)"
   ]
  },
  {
   "cell_type": "markdown",
   "metadata": {},
   "source": [
    "# Train Neural Net"
   ]
  },
  {
   "cell_type": "code",
   "execution_count": 31,
   "metadata": {},
   "outputs": [],
   "source": [
    "from sklearn.model_selection import train_test_split\n",
    "\n",
    "x_train, x_test, y_train, y_test = train_test_split(x_data, y_data, test_size=0.3)\n",
    "x_train, x_valid, y_train, y_valid = train_test_split(x_train, y_train, test_size=0.3)"
   ]
  },
  {
   "cell_type": "code",
   "execution_count": 32,
   "metadata": {
    "scrolled": true
   },
   "outputs": [
    {
     "data": {
      "image/png": "[encoded data removed]",
      "text/plain": [
       "<Figure size 432x288 with 1 Axes>"
      ]
     },
     "metadata": {},
     "output_type": "display_data"
    }
   ],
   "source": [
    "import matplotlib.pyplot as plt\n",
    "\n",
    "plt.hist(y_train)\n",
    "plt.hist(y_test)\n",
    "plt.hist(y_valid)\n",
    "plt.legend([\"train\", \"test\", \"valid\"])\n",
    "plt.show()"
   ]
  },
  {
   "cell_type": "code",
   "execution_count": 33,
   "metadata": {},
   "outputs": [],
   "source": [
    "# Format the y data into an array of 34 items, with 1 for the correct answer\n",
    "\n",
    "import keras.utils as kutils\n",
    "\n",
    "y_train = kutils.to_categorical(y_train, num_classes=N_CLASSES, dtype='int8')\n",
    "y_test  = kutils.to_categorical(y_test,  num_classes=N_CLASSES, dtype='int8')\n",
    "y_valid = kutils.to_categorical(y_valid, num_classes=N_CLASSES, dtype='int8')"
   ]
  },
  {
   "cell_type": "code",
   "execution_count": 42,
   "metadata": {},
   "outputs": [
    {
     "name": "stdout",
     "output_type": "stream",
     "text": [
      "_________________________________________________________________\n",
      "Layer (type)                 Output Shape              Param #   \n",
      "=================================================================\n",
      "dense_33 (Dense)             (None, 200)               500200    \n",
      "_________________________________________________________________\n",
      "dense_34 (Dense)             (None, 300)               60300     \n",
      "_________________________________________________________________\n",
      "dense_35 (Dense)             (None, 500)               150500    \n",
      "_________________________________________________________________\n",
      "dense_36 (Dense)             (None, 300)               150300    \n",
      "_________________________________________________________________\n",
      "dense_37 (Dense)             (None, 200)               60200     \n",
      "_________________________________________________________________\n",
      "dense_38 (Dense)             (None, 100)               20100     \n",
      "_________________________________________________________________\n",
      "dense_39 (Dense)             (None, 50)                5050      \n",
      "_________________________________________________________________\n",
      "dense_40 (Dense)             (None, 34)                1734      \n",
      "=================================================================\n",
      "Total params: 948,384\n",
      "Trainable params: 948,384\n",
      "Non-trainable params: 0\n",
      "_________________________________________________________________\n"
     ]
    }
   ],
   "source": [
    "from keras.models import Sequential\n",
    "from keras.layers import Dense\n",
    "\n",
    "nn = Sequential()\n",
    "\n",
    "layers = [\n",
    "    Dense(units=200, activation='relu', input_dim=IMAGE_EDGE_SIZE**2),\n",
    "    Dense(units=300, activation='relu'),\n",
    "    Dense(units=500, activation='relu'),\n",
    "    Dense(units=300, activation='relu'),\n",
    "    Dense(units=200, activation='relu'),\n",
    "    Dense(units=100, activation='relu'),\n",
    "    Dense(units=50, activation='relu'),\n",
    "]\n",
    "\n",
    "for layer in layers:\n",
    "    nn.add(layer)\n",
    "\n",
    "OutputLayer = Dense(units=N_CLASSES, activation='softmax')\n",
    "nn.add(OutputLayer)\n",
    "\n",
    "nn.summary()"
   ]
  },
  {
   "cell_type": "code",
   "execution_count": 35,
   "metadata": {},
   "outputs": [],
   "source": [
    "# transform data into format keras likes. This shouldn't be necessary but I'm not sure how to do it beautifully.\n",
    "\n",
    "def transform(data):\n",
    "    for i, row in enumerate(data):\n",
    "        data[i] = np.array(row)\n",
    "    return data\n",
    "\n",
    "y_train = transform(y_train)\n",
    "y_test  = transform(y_test)\n",
    "y_valid = transform(y_valid)"
   ]
  },
  {
   "cell_type": "code",
   "execution_count": 36,
   "metadata": {},
   "outputs": [],
   "source": [
    "# Same with x data\n",
    "\n",
    "x_train = np.array(x_train)\n",
    "x_test  = np.array(x_test)\n",
    "x_valid = np.array(x_valid)"
   ]
  },
  {
   "cell_type": "code",
   "execution_count": 43,
   "metadata": {
    "scrolled": false
   },
   "outputs": [
    {
     "name": "stdout",
     "output_type": "stream",
     "text": [
      "Train on 7585 samples, validate on 3251 samples\n",
      "Epoch 1/50\n",
      "7585/7585 [==============================] - 5s 679us/step - loss: 2.8263 - acc: 0.1877 - val_loss: 2.1679 - val_acc: 0.3294\n",
      "Epoch 2/50\n",
      "7585/7585 [==============================] - 4s 559us/step - loss: 1.7344 - acc: 0.4539 - val_loss: 1.6713 - val_acc: 0.4592\n",
      "Epoch 3/50\n",
      "7585/7585 [==============================] - 4s 582us/step - loss: 1.3039 - acc: 0.5879 - val_loss: 1.4632 - val_acc: 0.5604\n",
      "Epoch 4/50\n",
      "7585/7585 [==============================] - 6s 788us/step - loss: 0.9708 - acc: 0.6924 - val_loss: 1.2167 - val_acc: 0.6456\n",
      "Epoch 5/50\n",
      "7585/7585 [==============================] - 5s 683us/step - loss: 0.7168 - acc: 0.7691 - val_loss: 1.2886 - val_acc: 0.6420\n",
      "Epoch 6/50\n",
      "7585/7585 [==============================] - 4s 578us/step - loss: 0.6288 - acc: 0.7942 - val_loss: 1.2022 - val_acc: 0.6795\n",
      "Epoch 7/50\n",
      "7585/7585 [==============================] - 4s 573us/step - loss: 0.4646 - acc: 0.8471 - val_loss: 1.2403 - val_acc: 0.6730\n",
      "Epoch 8/50\n",
      "7585/7585 [==============================] - 5s 603us/step - loss: 0.3817 - acc: 0.8737 - val_loss: 1.2489 - val_acc: 0.6859\n",
      "Epoch 9/50\n",
      "7585/7585 [==============================] - 5s 696us/step - loss: 0.3652 - acc: 0.8802 - val_loss: 1.4198 - val_acc: 0.6730\n",
      "Epoch 10/50\n",
      "7585/7585 [==============================] - 5s 623us/step - loss: 0.2729 - acc: 0.9132 - val_loss: 1.3956 - val_acc: 0.6881\n",
      "Epoch 11/50\n",
      "7585/7585 [==============================] - 5s 631us/step - loss: 0.2426 - acc: 0.9225 - val_loss: 1.3009 - val_acc: 0.7136\n",
      "Epoch 12/50\n",
      "7585/7585 [==============================] - 5s 610us/step - loss: 0.2119 - acc: 0.9324 - val_loss: 1.4013 - val_acc: 0.6933\n",
      "Epoch 13/50\n",
      "7585/7585 [==============================] - 5s 615us/step - loss: 0.2627 - acc: 0.9196 - val_loss: 1.4866 - val_acc: 0.6819\n",
      "Epoch 14/50\n",
      "7585/7585 [==============================] - 5s 605us/step - loss: 0.1540 - acc: 0.9510 - val_loss: 1.5224 - val_acc: 0.7075\n",
      "Epoch 15/50\n",
      "7585/7585 [==============================] - 5s 623us/step - loss: 0.1708 - acc: 0.9494 - val_loss: 1.5335 - val_acc: 0.6798\n",
      "Epoch 16/50\n",
      "7585/7585 [==============================] - 4s 583us/step - loss: 0.1520 - acc: 0.9525 - val_loss: 1.3555 - val_acc: 0.7229\n",
      "Epoch 17/50\n",
      "7585/7585 [==============================] - 4s 577us/step - loss: 0.1488 - acc: 0.9579 - val_loss: 1.3354 - val_acc: 0.7238\n",
      "Epoch 18/50\n",
      "7585/7585 [==============================] - 4s 571us/step - loss: 0.1650 - acc: 0.9520 - val_loss: 1.4024 - val_acc: 0.7235\n",
      "Epoch 19/50\n",
      "7585/7585 [==============================] - 5s 714us/step - loss: 0.1582 - acc: 0.9520 - val_loss: 1.3489 - val_acc: 0.7256\n",
      "Epoch 20/50\n",
      "7585/7585 [==============================] - 6s 789us/step - loss: 0.1051 - acc: 0.9657 - val_loss: 1.4970 - val_acc: 0.7207\n",
      "Epoch 21/50\n",
      "7585/7585 [==============================] - 6s 782us/step - loss: 0.1064 - acc: 0.9693 - val_loss: 1.5853 - val_acc: 0.7152\n",
      "Epoch 22/50\n",
      "7585/7585 [==============================] - 12s 2ms/step - loss: 0.1231 - acc: 0.9669 - val_loss: 1.7215 - val_acc: 0.7195\n",
      "Epoch 23/50\n",
      "7585/7585 [==============================] - 9s 1ms/step - loss: 0.1521 - acc: 0.9573 - val_loss: 1.4458 - val_acc: 0.7349\n",
      "Epoch 24/50\n",
      "7585/7585 [==============================] - 6s 764us/step - loss: 0.1139 - acc: 0.9682 - val_loss: 1.8435 - val_acc: 0.6819\n",
      "Epoch 25/50\n",
      "7585/7585 [==============================] - 5s 696us/step - loss: 0.0799 - acc: 0.9750 - val_loss: 1.6740 - val_acc: 0.7225\n",
      "Epoch 26/50\n",
      "7585/7585 [==============================] - 5s 659us/step - loss: 0.0893 - acc: 0.9738 - val_loss: 1.5734 - val_acc: 0.7253\n",
      "Epoch 27/50\n",
      "7585/7585 [==============================] - 5s 629us/step - loss: 0.1177 - acc: 0.9680 - val_loss: 1.4048 - val_acc: 0.7345\n",
      "Epoch 28/50\n",
      "7585/7585 [==============================] - 5s 655us/step - loss: 0.0969 - acc: 0.9722 - val_loss: 1.6465 - val_acc: 0.7022\n",
      "Epoch 29/50\n",
      "7585/7585 [==============================] - 5s 614us/step - loss: 0.1117 - acc: 0.9710 - val_loss: 1.4119 - val_acc: 0.7222\n",
      "Epoch 30/50\n",
      "7585/7585 [==============================] - 5s 643us/step - loss: 0.0631 - acc: 0.9821 - val_loss: 1.5724 - val_acc: 0.7235\n",
      "Epoch 31/50\n",
      "7585/7585 [==============================] - 5s 661us/step - loss: 0.0915 - acc: 0.9752 - val_loss: 1.6429 - val_acc: 0.7096\n",
      "Epoch 32/50\n",
      "7585/7585 [==============================] - 5s 597us/step - loss: 0.1240 - acc: 0.9695 - val_loss: 1.5299 - val_acc: 0.7312\n",
      "Epoch 33/50\n",
      "7585/7585 [==============================] - 5s 712us/step - loss: 0.0887 - acc: 0.9759 - val_loss: 1.4329 - val_acc: 0.7269\n",
      "Epoch 34/50\n",
      "7585/7585 [==============================] - 5s 636us/step - loss: 0.0432 - acc: 0.9885 - val_loss: 1.6419 - val_acc: 0.7321\n",
      "Epoch 35/50\n",
      "7585/7585 [==============================] - 4s 589us/step - loss: 0.0806 - acc: 0.9781 - val_loss: 1.6162 - val_acc: 0.7235\n",
      "Epoch 36/50\n",
      "7585/7585 [==============================] - 5s 605us/step - loss: 0.0850 - acc: 0.9789 - val_loss: 1.6092 - val_acc: 0.7182\n",
      "Epoch 37/50\n",
      "7585/7585 [==============================] - 4s 590us/step - loss: 0.0728 - acc: 0.9819 - val_loss: 1.8494 - val_acc: 0.6961\n",
      "Epoch 38/50\n",
      "7585/7585 [==============================] - 6s 741us/step - loss: 0.1064 - acc: 0.9746 - val_loss: 1.5780 - val_acc: 0.7189\n",
      "Epoch 39/50\n",
      "7585/7585 [==============================] - 5s 651us/step - loss: 0.0996 - acc: 0.9761 - val_loss: 1.4404 - val_acc: 0.7333\n",
      "Epoch 40/50\n",
      "7585/7585 [==============================] - 7s 857us/step - loss: 0.0807 - acc: 0.9790 - val_loss: 1.5254 - val_acc: 0.7324\n",
      "Epoch 41/50\n",
      "7585/7585 [==============================] - 6s 775us/step - loss: 0.0606 - acc: 0.9866 - val_loss: 1.5720 - val_acc: 0.7345\n",
      "Epoch 42/50\n",
      "7585/7585 [==============================] - 6s 853us/step - loss: 0.1289 - acc: 0.9682 - val_loss: 1.3272 - val_acc: 0.7459\n",
      "Epoch 43/50\n",
      "7585/7585 [==============================] - 7s 944us/step - loss: 0.0431 - acc: 0.9888 - val_loss: 1.5963 - val_acc: 0.7358\n",
      "Epoch 44/50\n",
      "7585/7585 [==============================] - 7s 857us/step - loss: 0.0463 - acc: 0.9900 - val_loss: 1.7368 - val_acc: 0.7244\n",
      "Epoch 45/50\n",
      "7585/7585 [==============================] - 7s 939us/step - loss: 0.0735 - acc: 0.9831 - val_loss: 1.5381 - val_acc: 0.7548\n",
      "Epoch 46/50\n",
      "7585/7585 [==============================] - 6s 754us/step - loss: 0.0907 - acc: 0.9768 - val_loss: 1.4972 - val_acc: 0.7213\n",
      "Epoch 47/50\n",
      "7585/7585 [==============================] - 7s 876us/step - loss: 0.0659 - acc: 0.9844 - val_loss: 1.6831 - val_acc: 0.7139\n",
      "Epoch 48/50\n",
      "7585/7585 [==============================] - 6s 847us/step - loss: 0.1878 - acc: 0.9554 - val_loss: 1.5344 - val_acc: 0.7093\n",
      "Epoch 49/50\n",
      "7585/7585 [==============================] - 7s 861us/step - loss: 0.0638 - acc: 0.9848 - val_loss: 1.5491 - val_acc: 0.7385\n",
      "Epoch 50/50\n",
      "7585/7585 [==============================] - 6s 814us/step - loss: 0.0576 - acc: 0.9847 - val_loss: 1.5766 - val_acc: 0.7499\n"
     ]
    }
   ],
   "source": [
    "nn.compile(loss='categorical_crossentropy', optimizer='adam', metrics=['accuracy'])\n",
    "output = nn.fit(x_train, y_train, epochs=50, batch_size=32, validation_data=(x_valid, y_valid))\n",
    "nn.save_weights(\"./model\")"
   ]
  },
  {
   "cell_type": "code",
   "execution_count": 44,
   "metadata": {},
   "outputs": [
    {
     "data": {
      "text/plain": [
       "<matplotlib.legend.Legend at 0x1a40ef8a10>"
      ]
     },
     "execution_count": 44,
     "metadata": {},
     "output_type": "execute_result"
    },
    {
     "data": {
      "image/png": "[encoded data removed]",
      "text/plain": [
       "<Figure size 432x288 with 1 Axes>"
      ]
     },
     "metadata": {},
     "output_type": "display_data"
    }
   ],
   "source": [
    "plt.plot(output.history[\"acc\"])\n",
    "plt.plot(output.history[\"val_acc\"])\n",
    "plt.legend([\"acc\", \"val_acc\"])"
   ]
  },
  {
   "cell_type": "code",
   "execution_count": 45,
   "metadata": {},
   "outputs": [
    {
     "data": {
      "text/plain": [
       "<matplotlib.legend.Legend at 0x1a40eba650>"
      ]
     },
     "execution_count": 45,
     "metadata": {},
     "output_type": "execute_result"
    },
    {
     "data": {
      "image/png": "[encoded data removed]",
      "text/plain": [
       "<Figure size 432x288 with 1 Axes>"
      ]
     },
     "metadata": {},
     "output_type": "display_data"
    }
   ],
   "source": [
    "plt.plot(output.history[\"loss\"])\n",
    "plt.plot(output.history[\"val_loss\"])\n",
    "plt.legend([\"loss\", \"val_loss\"])"
   ]
  },
  {
   "cell_type": "code",
   "execution_count": 46,
   "metadata": {},
   "outputs": [
    {
     "name": "stdout",
     "output_type": "stream",
     "text": [
      "4644/4644 [==============================] - 1s 132us/step\n",
      "Loss: 1.613257347\n",
      "Acc:  0.743324720069\n"
     ]
    }
   ],
   "source": [
    "results = nn.evaluate(x_test, y_test)\n",
    "print \"Loss: {}\".format(results[0])\n",
    "print \"Acc:  {}\".format(results[1])"
   ]
  }
 ],
 "metadata": {
  "kernelspec": {
   "display_name": "Python 2",
   "language": "python",
   "name": "python2"
  },
  "language_info": {
   "codemirror_mode": {
    "name": "ipython",
    "version": 2
   },
   "file_extension": ".py",
   "mimetype": "text/x-python",
   "name": "python",
   "nbconvert_exporter": "python",
   "pygments_lexer": "ipython2",
   "version": "2.7.15"
  }
 },
 "nbformat": 4,
 "nbformat_minor": 2
}
